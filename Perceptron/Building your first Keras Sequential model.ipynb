{
 "cells": [
  {
   "cell_type": "code",
   "execution_count": 37,
   "metadata": {},
   "outputs": [],
   "source": [
    "# Reference https://colab.research.google.com/github/keras-team/keras-io/blob/master/guides/ipynb/sequential_model.ipynb#scrollTo=_3m_GnAGjFe1\n",
    "from keras import models\n",
    "from keras import layers\n",
    "import tensorflow as tf"
   ]
  },
  {
   "cell_type": "code",
   "execution_count": 5,
   "metadata": {},
   "outputs": [
    {
     "name": "stdout",
     "output_type": "stream",
     "text": [
      "Model: \"sequential\"\n",
      "_________________________________________________________________\n",
      "Layer (type)                 Output Shape              Param #   \n",
      "=================================================================\n",
      "dense (Dense)                (None, 32)                128       \n",
      "_________________________________________________________________\n",
      "dense_1 (Dense)              (None, 10)                330       \n",
      "=================================================================\n",
      "Total params: 458\n",
      "Trainable params: 458\n",
      "Non-trainable params: 0\n",
      "_________________________________________________________________\n"
     ]
    }
   ],
   "source": [
    "model = models.Sequential()\n",
    "model.add(layers.Dense(32,activation='relu', input_shape=(3,)))\n",
    "model.add(layers.Dense(10,activation='softmax'))\n",
    "model.summary()"
   ]
  },
  {
   "cell_type": "markdown",
   "metadata": {},
   "source": [
    "# A Sequential model is not appropriate when:\n",
    "\n",
    "Your model has multiple inputs or multiple outputs\n",
    "Any of your layers has multiple inputs or multiple outputs\n",
    "You need to do layer sharing\n",
    "You want non-linear topology (e.g. a residual connection, a multi-branch model)"
   ]
  },
  {
   "cell_type": "code",
   "execution_count": 7,
   "metadata": {},
   "outputs": [],
   "source": [
    "#Lets see why input_shape is important and what happens if you miss it \n",
    "model1 = models.Sequential(\n",
    "    [\n",
    "        layers.Dense(2, activation=\"relu\"),\n",
    "        layers.Dense(3, activation=\"relu\"),\n",
    "        layers.Dense(4),\n",
    "    ]\n",
    ")"
   ]
  },
  {
   "cell_type": "code",
   "execution_count": 8,
   "metadata": {},
   "outputs": [
    {
     "data": {
      "text/plain": [
       "[<tensorflow.python.keras.layers.core.Dense at 0x1bd6640a2b0>,\n",
       " <tensorflow.python.keras.layers.core.Dense at 0x1bd6640a9d0>,\n",
       " <tensorflow.python.keras.layers.core.Dense at 0x1bd6640ad60>]"
      ]
     },
     "execution_count": 8,
     "metadata": {},
     "output_type": "execute_result"
    }
   ],
   "source": [
    "model1.layers"
   ]
  },
  {
   "cell_type": "code",
   "execution_count": 12,
   "metadata": {},
   "outputs": [
    {
     "data": {
      "text/plain": [
       "[<tensorflow.python.keras.layers.core.Dense at 0x1bd6640a2b0>,\n",
       " <tensorflow.python.keras.layers.core.Dense at 0x1bd6640a9d0>,\n",
       " <tensorflow.python.keras.layers.core.Dense at 0x1bd6640ad60>]"
      ]
     },
     "execution_count": 12,
     "metadata": {},
     "output_type": "execute_result"
    }
   ],
   "source": [
    "model1.layers"
   ]
  },
  {
   "cell_type": "code",
   "execution_count": 11,
   "metadata": {},
   "outputs": [
    {
     "ename": "ValueError",
     "evalue": "Weights for model sequential_1 have not yet been created. Weights are created when the Model is first called on inputs or `build()` is called with an `input_shape`.",
     "output_type": "error",
     "traceback": [
      "\u001b[1;31m---------------------------------------------------------------------------\u001b[0m",
      "\u001b[1;31mValueError\u001b[0m                                Traceback (most recent call last)",
      "\u001b[1;32m<ipython-input-11-3311670bf6fe>\u001b[0m in \u001b[0;36m<module>\u001b[1;34m\u001b[0m\n\u001b[1;32m----> 1\u001b[1;33m \u001b[0mmodel1\u001b[0m\u001b[1;33m.\u001b[0m\u001b[0mweights\u001b[0m\u001b[1;33m\u001b[0m\u001b[1;33m\u001b[0m\u001b[0m\n\u001b[0m",
      "\u001b[1;32m~\\anaconda3\\envs\\tf\\lib\\site-packages\\tensorflow\\python\\keras\\engine\\training.py\u001b[0m in \u001b[0;36mweights\u001b[1;34m(self)\u001b[0m\n\u001b[0;32m   2318\u001b[0m       \u001b[0mA\u001b[0m \u001b[0mlist\u001b[0m \u001b[0mof\u001b[0m \u001b[0mvariables\u001b[0m\u001b[1;33m.\u001b[0m\u001b[1;33m\u001b[0m\u001b[1;33m\u001b[0m\u001b[0m\n\u001b[0;32m   2319\u001b[0m     \"\"\"\n\u001b[1;32m-> 2320\u001b[1;33m     \u001b[1;32mreturn\u001b[0m \u001b[0mself\u001b[0m\u001b[1;33m.\u001b[0m\u001b[0m_dedup_weights\u001b[0m\u001b[1;33m(\u001b[0m\u001b[0mself\u001b[0m\u001b[1;33m.\u001b[0m\u001b[0m_undeduplicated_weights\u001b[0m\u001b[1;33m)\u001b[0m\u001b[1;33m\u001b[0m\u001b[1;33m\u001b[0m\u001b[0m\n\u001b[0m\u001b[0;32m   2321\u001b[0m \u001b[1;33m\u001b[0m\u001b[0m\n\u001b[0;32m   2322\u001b[0m   \u001b[1;33m@\u001b[0m\u001b[0mproperty\u001b[0m\u001b[1;33m\u001b[0m\u001b[1;33m\u001b[0m\u001b[0m\n",
      "\u001b[1;32m~\\anaconda3\\envs\\tf\\lib\\site-packages\\tensorflow\\python\\keras\\engine\\training.py\u001b[0m in \u001b[0;36m_undeduplicated_weights\u001b[1;34m(self)\u001b[0m\n\u001b[0;32m   2323\u001b[0m   \u001b[1;32mdef\u001b[0m \u001b[0m_undeduplicated_weights\u001b[0m\u001b[1;33m(\u001b[0m\u001b[0mself\u001b[0m\u001b[1;33m)\u001b[0m\u001b[1;33m:\u001b[0m\u001b[1;33m\u001b[0m\u001b[1;33m\u001b[0m\u001b[0m\n\u001b[0;32m   2324\u001b[0m     \u001b[1;34m\"\"\"Returns the undeduplicated list of all layer variables/weights.\"\"\"\u001b[0m\u001b[1;33m\u001b[0m\u001b[1;33m\u001b[0m\u001b[0m\n\u001b[1;32m-> 2325\u001b[1;33m     \u001b[0mself\u001b[0m\u001b[1;33m.\u001b[0m\u001b[0m_assert_weights_created\u001b[0m\u001b[1;33m(\u001b[0m\u001b[1;33m)\u001b[0m\u001b[1;33m\u001b[0m\u001b[1;33m\u001b[0m\u001b[0m\n\u001b[0m\u001b[0;32m   2326\u001b[0m     \u001b[0mweights\u001b[0m \u001b[1;33m=\u001b[0m \u001b[1;33m[\u001b[0m\u001b[1;33m]\u001b[0m\u001b[1;33m\u001b[0m\u001b[1;33m\u001b[0m\u001b[0m\n\u001b[0;32m   2327\u001b[0m     \u001b[1;32mfor\u001b[0m \u001b[0mlayer\u001b[0m \u001b[1;32min\u001b[0m \u001b[0mself\u001b[0m\u001b[1;33m.\u001b[0m\u001b[0m_layers\u001b[0m\u001b[1;33m:\u001b[0m\u001b[1;33m\u001b[0m\u001b[1;33m\u001b[0m\u001b[0m\n",
      "\u001b[1;32m~\\anaconda3\\envs\\tf\\lib\\site-packages\\tensorflow\\python\\keras\\engine\\sequential.py\u001b[0m in \u001b[0;36m_assert_weights_created\u001b[1;34m(self)\u001b[0m\n\u001b[0;32m    513\u001b[0m     \u001b[1;31m# When the graph has not been initialized, use the Model's implementation to\u001b[0m\u001b[1;33m\u001b[0m\u001b[1;33m\u001b[0m\u001b[1;33m\u001b[0m\u001b[0m\n\u001b[0;32m    514\u001b[0m     \u001b[1;31m# to check if the weights has been created.\u001b[0m\u001b[1;33m\u001b[0m\u001b[1;33m\u001b[0m\u001b[1;33m\u001b[0m\u001b[0m\n\u001b[1;32m--> 515\u001b[1;33m     \u001b[0msuper\u001b[0m\u001b[1;33m(\u001b[0m\u001b[0mfunctional\u001b[0m\u001b[1;33m.\u001b[0m\u001b[0mFunctional\u001b[0m\u001b[1;33m,\u001b[0m \u001b[0mself\u001b[0m\u001b[1;33m)\u001b[0m\u001b[1;33m.\u001b[0m\u001b[0m_assert_weights_created\u001b[0m\u001b[1;33m(\u001b[0m\u001b[1;33m)\u001b[0m  \u001b[1;31m# pylint: disable=bad-super-call\u001b[0m\u001b[1;33m\u001b[0m\u001b[1;33m\u001b[0m\u001b[0m\n\u001b[0m\u001b[0;32m    516\u001b[0m \u001b[1;33m\u001b[0m\u001b[0m\n\u001b[0;32m    517\u001b[0m \u001b[1;33m\u001b[0m\u001b[0m\n",
      "\u001b[1;32m~\\anaconda3\\envs\\tf\\lib\\site-packages\\tensorflow\\python\\keras\\engine\\training.py\u001b[0m in \u001b[0;36m_assert_weights_created\u001b[1;34m(self)\u001b[0m\n\u001b[0;32m   2446\u001b[0m       \u001b[1;31m# been invoked yet, this will cover both sequential and subclass model.\u001b[0m\u001b[1;33m\u001b[0m\u001b[1;33m\u001b[0m\u001b[1;33m\u001b[0m\u001b[0m\n\u001b[0;32m   2447\u001b[0m       \u001b[1;31m# Also make sure to exclude Model class itself which has build() defined.\u001b[0m\u001b[1;33m\u001b[0m\u001b[1;33m\u001b[0m\u001b[1;33m\u001b[0m\u001b[0m\n\u001b[1;32m-> 2448\u001b[1;33m       raise ValueError('Weights for model %s have not yet been created. '\n\u001b[0m\u001b[0;32m   2449\u001b[0m                        \u001b[1;34m'Weights are created when the Model is first called on '\u001b[0m\u001b[1;33m\u001b[0m\u001b[1;33m\u001b[0m\u001b[0m\n\u001b[0;32m   2450\u001b[0m                        \u001b[1;34m'inputs or `build()` is called with an `input_shape`.'\u001b[0m \u001b[1;33m%\u001b[0m\u001b[1;33m\u001b[0m\u001b[1;33m\u001b[0m\u001b[0m\n",
      "\u001b[1;31mValueError\u001b[0m: Weights for model sequential_1 have not yet been created. Weights are created when the Model is first called on inputs or `build()` is called with an `input_shape`."
     ]
    }
   ],
   "source": [
    "model1.weights # This error is intentional "
   ]
  },
  {
   "cell_type": "markdown",
   "metadata": {},
   "source": [
    " When you instantiate a Sequential model without an input shape, it isn't \"built\": it has no weights (and calling model.weights results in an error stating just this). "
   ]
  },
  {
   "cell_type": "markdown",
   "metadata": {},
   "source": [
    "# Understanding Param and input_shape"
   ]
  },
  {
   "cell_type": "code",
   "execution_count": 16,
   "metadata": {},
   "outputs": [],
   "source": [
    "#model = models.Sequential()\n",
    "#model.add(layers.Dense(32,activation='relu', input_shape=(3,)))\n",
    "\n",
    "\n",
    "model2 = models.Sequential()\n",
    "model2.add(layers.Dense(units=12, activation='relu', input_shape=(32,)))\n",
    "model2.add(layers.Dropout(0.5))\n",
    "model2.add(layers.Dense(units=8, activation='relu'))\n",
    "model2.add(layers.Dropout(0.5))\n",
    "model2.add(layers.Dense(units=6, activation='relu'))\n",
    "model2.add(layers.Dropout(0.5))\n",
    "model2.add(layers.Dense(units=1, activation='softmax'))"
   ]
  },
  {
   "cell_type": "code",
   "execution_count": 17,
   "metadata": {},
   "outputs": [
    {
     "name": "stdout",
     "output_type": "stream",
     "text": [
      "Model: \"sequential_4\"\n",
      "_________________________________________________________________\n",
      "Layer (type)                 Output Shape              Param #   \n",
      "=================================================================\n",
      "dense_5 (Dense)              (None, 12)                396       \n",
      "_________________________________________________________________\n",
      "dropout (Dropout)            (None, 12)                0         \n",
      "_________________________________________________________________\n",
      "dense_6 (Dense)              (None, 8)                 104       \n",
      "_________________________________________________________________\n",
      "dropout_1 (Dropout)          (None, 8)                 0         \n",
      "_________________________________________________________________\n",
      "dense_7 (Dense)              (None, 6)                 54        \n",
      "_________________________________________________________________\n",
      "dropout_2 (Dropout)          (None, 6)                 0         \n",
      "_________________________________________________________________\n",
      "dense_8 (Dense)              (None, 1)                 7         \n",
      "=================================================================\n",
      "Total params: 561\n",
      "Trainable params: 561\n",
      "Non-trainable params: 0\n",
      "_________________________________________________________________\n"
     ]
    }
   ],
   "source": [
    "model2.summary()"
   ]
  },
  {
   "attachments": {
    "input_shape.jpeg": {
     "image/jpeg": "[encoded data removed]"
    }
   },
   "cell_type": "markdown",
   "metadata": {},
   "source": [
    "![input_shape.jpeg](attachment:input_shape.jpeg)\n",
    "\n",
    "Source https://www.machinecurve.com/index.php/2020/04/05/how-to-find-the-value-for-keras-input_shape-input_dim/"
   ]
  },
  {
   "cell_type": "markdown",
   "metadata": {},
   "source": [
    "This model consists of three hidden layers and an input layer. Dropout layers are added in between each pair of dense layers for regularisation. The Dropout layer takes and argument “rate”, which specifies the proportion of neurons in the preceding dense layer that should take a value of zero. In this model, the rate is set to 0.5, which means 50% of the neurons in the hidden layers are given a weight of 0."
   ]
  },
  {
   "cell_type": "markdown",
   "metadata": {},
   "source": [
    "- In Keras, the input dimension needs to be given excluding the batch-size (number of samples). In this neural network, the input shape is given as (32, ). 32 refers to the number of features in each input sample. Instead of not mentioning the batch-size, even a placeholder can be given. Another way to give the input dimension in the above model is (None, 32, ).\n",
    "\n",
    "- If the data is multi-dimensional, like image data, then the input data must be given as (m, n) where m is the height-dimension and n is the width-dimension.\n",
    "\n",
    "- Since 32 is the feature size, it is the column dimension of the input matrix. This means that the row dimension of the hidden layer is also 32.\n",
    " \n",
    "- Now that we have the input game sorted, let us look at the model and understand its complexity. Here, by complexity we mean the number of trainable parameters (weight and bias parameters). Higher the number of trainable parameters, more the complexity of the model."
   ]
  },
  {
   "cell_type": "markdown",
   "metadata": {},
   "source": [
    "# The total number of trainable parameters = m x n + n \n",
    "\n",
    "The first dense/hidden layer has 12 neurons, which is its output dimension. This appears as the second output argument in the model summary, against the first hidden layer. The subsequent dropout layer does not alter the dimension of the output. It only alters the weights of the neurons. The second hidden layer has 8 output neurons, and the next one has 6. The final output layer has 1 neuron. Let us verify the total trainable parameters of this model.\n",
    "\n",
    "- First hidden layer (m = 32, n = 12) : 32 x 12 + 12 = 396\n",
    "- Second hidden layer (m = 12, n = 8) : 12 x 8 + 8 = 104\n",
    "- Third hidden layer (m = 8, n = 6) : 8 x 6 + 6 =54\n",
    "- Output layer (m = 6, n = 1) : 6 x 1 + 1 =7\n",
    "- Total trainable parameters = 396 + 104 + 54 + 7 = 561\n",
    "\n",
    "- Wonderful source for this worked example is from the link below -\n",
    "https://towardsdatascience.com/ultimate-guide-to-input-shape-and-model-complexity-in-neural-networks-ae665c728f4b"
   ]
  },
  {
   "cell_type": "markdown",
   "metadata": {},
   "source": [
    "# Try a simple dataset with Classification"
   ]
  },
  {
   "cell_type": "code",
   "execution_count": 47,
   "metadata": {},
   "outputs": [],
   "source": [
    "from keras.models import Sequential\n",
    "from keras.layers import Dense\n",
    "import numpy\n",
    "# fix random seed for reproducibility\n",
    "seed = 7\n",
    "numpy.random.seed(seed)"
   ]
  },
  {
   "cell_type": "code",
   "execution_count": 48,
   "metadata": {},
   "outputs": [],
   "source": [
    "# load pima indians dataset\n",
    "dataset = numpy.loadtxt(\"pima-indians-diabetes.csv\", delimiter=\",\")\n",
    "# split into input (X) and output (Y) variables\n",
    "X = dataset[:,0:8]\n",
    "Y = dataset[:,8]"
   ]
  },
  {
   "cell_type": "code",
   "execution_count": 49,
   "metadata": {},
   "outputs": [
    {
     "data": {
      "text/plain": [
       "(768, 8)"
      ]
     },
     "execution_count": 49,
     "metadata": {},
     "output_type": "execute_result"
    }
   ],
   "source": [
    "X.shape"
   ]
  },
  {
   "cell_type": "code",
   "execution_count": 43,
   "metadata": {},
   "outputs": [],
   "source": [
    "# donot Run this cell \n",
    "# Note : Sometimes, though, you just have one dimension – which is the case with one-dimensional / flattened arrays, \n",
    "#for example. In this case, you can also simply use input_dim: specifying the number of elements within that first dimension only\n",
    "\n",
    "# input_shape=(X.shape[1],)\n",
    "model = Sequential()\n",
    "model.add(Dense(12, input_dim=8, activation='relu'))\n",
    "model.add(Dense(8, activation='relu'))\n",
    "model.add(Dense(1, activation='sigmoid'))"
   ]
  },
  {
   "cell_type": "code",
   "execution_count": 50,
   "metadata": {},
   "outputs": [],
   "source": [
    "model = Sequential()\n",
    "model.add(Dense(12, input_shape=(X.shape[1],), activation='relu'))\n",
    "model.add(Dense(8, activation='relu'))\n",
    "model.add(Dense(1, activation='sigmoid'))"
   ]
  },
  {
   "cell_type": "code",
   "execution_count": 51,
   "metadata": {},
   "outputs": [],
   "source": [
    "# Compile model\n",
    "model.compile(loss='binary_crossentropy', optimizer='adam', metrics=['accuracy'])"
   ]
  },
  {
   "cell_type": "code",
   "execution_count": 52,
   "metadata": {},
   "outputs": [
    {
     "name": "stdout",
     "output_type": "stream",
     "text": [
      "Epoch 1/150\n",
      "77/77 [==============================] - 0s 868us/step - loss: 9.3428 - accuracy: 0.3542\n",
      "Epoch 2/150\n",
      "77/77 [==============================] - 0s 3ms/step - loss: 2.3258 - accuracy: 0.4505\n",
      "Epoch 3/150\n",
      "77/77 [==============================] - 0s 907us/step - loss: 1.4204 - accuracy: 0.4974\n",
      "Epoch 4/150\n",
      "77/77 [==============================] - 0s 816us/step - loss: 1.1288 - accuracy: 0.5169\n",
      "Epoch 5/150\n",
      "77/77 [==============================] - 0s 777us/step - loss: 0.9946 - accuracy: 0.6042\n",
      "Epoch 6/150\n",
      "77/77 [==============================] - 0s 751us/step - loss: 0.8749 - accuracy: 0.6289\n",
      "Epoch 7/150\n",
      "77/77 [==============================] - 0s 842us/step - loss: 0.8511 - accuracy: 0.6328\n",
      "Epoch 8/150\n",
      "77/77 [==============================] - 0s 764us/step - loss: 0.8239 - accuracy: 0.6458\n",
      "Epoch 9/150\n",
      "77/77 [==============================] - 0s 768us/step - loss: 0.7732 - accuracy: 0.6589\n",
      "Epoch 10/150\n",
      "77/77 [==============================] - 0s 764us/step - loss: 0.7259 - accuracy: 0.6706\n",
      "Epoch 11/150\n",
      "77/77 [==============================] - 0s 777us/step - loss: 0.7212 - accuracy: 0.6784\n",
      "Epoch 12/150\n",
      "77/77 [==============================] - 0s 735us/step - loss: 0.6889 - accuracy: 0.6927\n",
      "Epoch 13/150\n",
      "77/77 [==============================] - 0s 764us/step - loss: 0.7024 - accuracy: 0.6940\n",
      "Epoch 14/150\n",
      "77/77 [==============================] - 0s 751us/step - loss: 0.6574 - accuracy: 0.6966\n",
      "Epoch 15/150\n",
      "77/77 [==============================] - 0s 790us/step - loss: 0.6405 - accuracy: 0.7096\n",
      "Epoch 16/150\n",
      "77/77 [==============================] - 0s 790us/step - loss: 0.6366 - accuracy: 0.7044\n",
      "Epoch 17/150\n",
      "77/77 [==============================] - 0s 790us/step - loss: 0.6265 - accuracy: 0.7070\n",
      "Epoch 18/150\n",
      "77/77 [==============================] - 0s 777us/step - loss: 0.6091 - accuracy: 0.7148\n",
      "Epoch 19/150\n",
      "77/77 [==============================] - 0s 738us/step - loss: 0.6096 - accuracy: 0.7135\n",
      "Epoch 20/150\n",
      "77/77 [==============================] - 0s 816us/step - loss: 0.6236 - accuracy: 0.6927\n",
      "Epoch 21/150\n",
      "77/77 [==============================] - 0s 907us/step - loss: 0.6293 - accuracy: 0.7135\n",
      "Epoch 22/150\n",
      "77/77 [==============================] - 0s 984us/step - loss: 0.6050 - accuracy: 0.7174\n",
      "Epoch 23/150\n",
      "77/77 [==============================] - 0s 1ms/step - loss: 0.6343 - accuracy: 0.7044\n",
      "Epoch 24/150\n",
      "77/77 [==============================] - 0s 868us/step - loss: 0.6137 - accuracy: 0.7070\n",
      "Epoch 25/150\n",
      "77/77 [==============================] - 0s 829us/step - loss: 0.5903 - accuracy: 0.7292\n",
      "Epoch 26/150\n",
      "77/77 [==============================] - 0s 777us/step - loss: 0.5941 - accuracy: 0.7174\n",
      "Epoch 27/150\n",
      "77/77 [==============================] - 0s 894us/step - loss: 0.5993 - accuracy: 0.7109\n",
      "Epoch 28/150\n",
      "77/77 [==============================] - 0s 790us/step - loss: 0.5763 - accuracy: 0.7214\n",
      "Epoch 29/150\n",
      "77/77 [==============================] - 0s 946us/step - loss: 0.5830 - accuracy: 0.7174\n",
      "Epoch 30/150\n",
      "77/77 [==============================] - 0s 933us/step - loss: 0.5959 - accuracy: 0.7109\n",
      "Epoch 31/150\n",
      "77/77 [==============================] - 0s 920us/step - loss: 0.5710 - accuracy: 0.7318\n",
      "Epoch 32/150\n",
      "77/77 [==============================] - 0s 842us/step - loss: 0.5693 - accuracy: 0.7240\n",
      "Epoch 33/150\n",
      "77/77 [==============================] - 0s 816us/step - loss: 0.5792 - accuracy: 0.7292\n",
      "Epoch 34/150\n",
      "77/77 [==============================] - 0s 829us/step - loss: 0.5682 - accuracy: 0.7253\n",
      "Epoch 35/150\n",
      "77/77 [==============================] - 0s 751us/step - loss: 0.5693 - accuracy: 0.7227\n",
      "Epoch 36/150\n",
      "77/77 [==============================] - 0s 757us/step - loss: 0.5718 - accuracy: 0.7227\n",
      "Epoch 37/150\n",
      "77/77 [==============================] - 0s 764us/step - loss: 0.5687 - accuracy: 0.7240\n",
      "Epoch 38/150\n",
      "77/77 [==============================] - 0s 777us/step - loss: 0.5893 - accuracy: 0.7253\n",
      "Epoch 39/150\n",
      "77/77 [==============================] - 0s 803us/step - loss: 0.5869 - accuracy: 0.7122\n",
      "Epoch 40/150\n",
      "77/77 [==============================] - 0s 743us/step - loss: 0.5757 - accuracy: 0.7266\n",
      "Epoch 41/150\n",
      "77/77 [==============================] - 0s 764us/step - loss: 0.5566 - accuracy: 0.7409\n",
      "Epoch 42/150\n",
      "77/77 [==============================] - 0s 796us/step - loss: 0.5458 - accuracy: 0.7474\n",
      "Epoch 43/150\n",
      "77/77 [==============================] - 0s 933us/step - loss: 0.5500 - accuracy: 0.7305\n",
      "Epoch 44/150\n",
      "77/77 [==============================] - 0s 997us/step - loss: 0.5557 - accuracy: 0.7305\n",
      "Epoch 45/150\n",
      "77/77 [==============================] - 0s 958us/step - loss: 0.5670 - accuracy: 0.7253\n",
      "Epoch 46/150\n",
      "77/77 [==============================] - 0s 894us/step - loss: 0.5527 - accuracy: 0.7344\n",
      "Epoch 47/150\n",
      "77/77 [==============================] - 0s 891us/step - loss: 0.5453 - accuracy: 0.7318\n",
      "Epoch 48/150\n",
      "77/77 [==============================] - 0s 790us/step - loss: 0.5515 - accuracy: 0.7279\n",
      "Epoch 49/150\n",
      "77/77 [==============================] - 0s 803us/step - loss: 0.5558 - accuracy: 0.7344\n",
      "Epoch 50/150\n",
      "77/77 [==============================] - 0s 842us/step - loss: 0.5500 - accuracy: 0.7448\n",
      "Epoch 51/150\n",
      "77/77 [==============================] - 0s 1ms/step - loss: 0.5603 - accuracy: 0.7227\n",
      "Epoch 52/150\n",
      "77/77 [==============================] - 0s 1ms/step - loss: 0.5477 - accuracy: 0.7305\n",
      "Epoch 53/150\n",
      "77/77 [==============================] - 0s 1ms/step - loss: 0.5476 - accuracy: 0.7383\n",
      "Epoch 54/150\n",
      "77/77 [==============================] - 0s 935us/step - loss: 0.5619 - accuracy: 0.7174\n",
      "Epoch 55/150\n",
      "77/77 [==============================] - 0s 946us/step - loss: 0.5462 - accuracy: 0.7396\n",
      "Epoch 56/150\n",
      "77/77 [==============================] - ETA: 0s - loss: 0.5371 - accuracy: 0.73 - 0s 1ms/step - loss: 0.5570 - accuracy: 0.7188\n",
      "Epoch 57/150\n",
      "77/77 [==============================] - 0s 1ms/step - loss: 0.5452 - accuracy: 0.7266\n",
      "Epoch 58/150\n",
      "77/77 [==============================] - 0s 751us/step - loss: 0.5529 - accuracy: 0.7305\n",
      "Epoch 59/150\n",
      "77/77 [==============================] - 0s 738us/step - loss: 0.5480 - accuracy: 0.7227\n",
      "Epoch 60/150\n",
      "77/77 [==============================] - 0s 711us/step - loss: 0.5604 - accuracy: 0.7253\n",
      "Epoch 61/150\n",
      "77/77 [==============================] - 0s 738us/step - loss: 0.5589 - accuracy: 0.7201\n",
      "Epoch 62/150\n",
      "77/77 [==============================] - 0s 699us/step - loss: 0.5413 - accuracy: 0.7344\n",
      "Epoch 63/150\n",
      "77/77 [==============================] - 0s 751us/step - loss: 0.5456 - accuracy: 0.7357\n",
      "Epoch 64/150\n",
      "77/77 [==============================] - 0s 790us/step - loss: 0.5479 - accuracy: 0.7266\n",
      "Epoch 65/150\n",
      "77/77 [==============================] - 0s 891us/step - loss: 0.5353 - accuracy: 0.7552\n",
      "Epoch 66/150\n",
      "77/77 [==============================] - 0s 894us/step - loss: 0.5409 - accuracy: 0.7487\n",
      "Epoch 67/150\n",
      "77/77 [==============================] - 0s 920us/step - loss: 0.5516 - accuracy: 0.7357\n",
      "Epoch 68/150\n",
      "77/77 [==============================] - 0s 751us/step - loss: 0.5287 - accuracy: 0.7435\n",
      "Epoch 69/150\n",
      "77/77 [==============================] - 0s 777us/step - loss: 0.5406 - accuracy: 0.7409\n",
      "Epoch 70/150\n",
      "77/77 [==============================] - 0s 764us/step - loss: 0.5438 - accuracy: 0.7409\n",
      "Epoch 71/150\n",
      "77/77 [==============================] - 0s 738us/step - loss: 0.5335 - accuracy: 0.7448\n",
      "Epoch 72/150\n",
      "77/77 [==============================] - 0s 803us/step - loss: 0.5287 - accuracy: 0.7370\n",
      "Epoch 73/150\n",
      "77/77 [==============================] - 0s 803us/step - loss: 0.5350 - accuracy: 0.7370\n",
      "Epoch 74/150\n",
      "77/77 [==============================] - 0s 777us/step - loss: 0.5317 - accuracy: 0.7422\n",
      "Epoch 75/150\n",
      "77/77 [==============================] - 0s 764us/step - loss: 0.5306 - accuracy: 0.7357\n",
      "Epoch 76/150\n",
      "77/77 [==============================] - 0s 920us/step - loss: 0.5432 - accuracy: 0.7396\n",
      "Epoch 77/150\n",
      "77/77 [==============================] - 0s 894us/step - loss: 0.5258 - accuracy: 0.7474\n",
      "Epoch 78/150\n",
      "77/77 [==============================] - 0s 868us/step - loss: 0.5228 - accuracy: 0.7630\n",
      "Epoch 79/150\n",
      "77/77 [==============================] - 0s 780us/step - loss: 0.5324 - accuracy: 0.7487\n",
      "Epoch 80/150\n",
      "77/77 [==============================] - 0s 790us/step - loss: 0.5346 - accuracy: 0.7435\n",
      "Epoch 81/150\n"
     ]
    },
    {
     "name": "stdout",
     "output_type": "stream",
     "text": [
      "77/77 [==============================] - 0s 773us/step - loss: 0.5243 - accuracy: 0.7487\n",
      "Epoch 82/150\n",
      "77/77 [==============================] - 0s 907us/step - loss: 0.5382 - accuracy: 0.7409\n",
      "Epoch 83/150\n",
      "77/77 [==============================] - 0s 881us/step - loss: 0.5290 - accuracy: 0.7409\n",
      "Epoch 84/150\n",
      "77/77 [==============================] - 0s 790us/step - loss: 0.5247 - accuracy: 0.7279\n",
      "Epoch 85/150\n",
      "77/77 [==============================] - 0s 803us/step - loss: 0.5247 - accuracy: 0.7292\n",
      "Epoch 86/150\n",
      "77/77 [==============================] - 0s 768us/step - loss: 0.5202 - accuracy: 0.7383\n",
      "Epoch 87/150\n",
      "77/77 [==============================] - 0s 763us/step - loss: 0.5198 - accuracy: 0.7526\n",
      "Epoch 88/150\n",
      "77/77 [==============================] - 0s 738us/step - loss: 0.5269 - accuracy: 0.7435\n",
      "Epoch 89/150\n",
      "77/77 [==============================] - 0s 764us/step - loss: 0.5239 - accuracy: 0.7474\n",
      "Epoch 90/150\n",
      "77/77 [==============================] - 0s 758us/step - loss: 0.5223 - accuracy: 0.7500\n",
      "Epoch 91/150\n",
      "77/77 [==============================] - 0s 756us/step - loss: 0.5437 - accuracy: 0.7357\n",
      "Epoch 92/150\n",
      "77/77 [==============================] - 0s 920us/step - loss: 0.5202 - accuracy: 0.7487\n",
      "Epoch 93/150\n",
      "77/77 [==============================] - 0s 881us/step - loss: 0.5198 - accuracy: 0.7500\n",
      "Epoch 94/150\n",
      "77/77 [==============================] - 0s 829us/step - loss: 0.5263 - accuracy: 0.7565\n",
      "Epoch 95/150\n",
      "77/77 [==============================] - 0s 984us/step - loss: 0.5236 - accuracy: 0.7474\n",
      "Epoch 96/150\n",
      "77/77 [==============================] - 0s 790us/step - loss: 0.5188 - accuracy: 0.7435\n",
      "Epoch 97/150\n",
      "77/77 [==============================] - 0s 933us/step - loss: 0.5203 - accuracy: 0.7526\n",
      "Epoch 98/150\n",
      "77/77 [==============================] - 0s 881us/step - loss: 0.5229 - accuracy: 0.7383\n",
      "Epoch 99/150\n",
      "77/77 [==============================] - 0s 881us/step - loss: 0.5264 - accuracy: 0.7409\n",
      "Epoch 100/150\n",
      "77/77 [==============================] - 0s 790us/step - loss: 0.5131 - accuracy: 0.7487\n",
      "Epoch 101/150\n",
      "77/77 [==============================] - 0s 765us/step - loss: 0.5181 - accuracy: 0.7643\n",
      "Epoch 102/150\n",
      "77/77 [==============================] - 0s 750us/step - loss: 0.5138 - accuracy: 0.7552\n",
      "Epoch 103/150\n",
      "77/77 [==============================] - 0s 764us/step - loss: 0.5062 - accuracy: 0.7552\n",
      "Epoch 104/150\n",
      "77/77 [==============================] - 0s 777us/step - loss: 0.5094 - accuracy: 0.7604\n",
      "Epoch 105/150\n",
      "77/77 [==============================] - 0s 763us/step - loss: 0.5268 - accuracy: 0.7435\n",
      "Epoch 106/150\n",
      "77/77 [==============================] - 0s 775us/step - loss: 0.5053 - accuracy: 0.7695\n",
      "Epoch 107/150\n",
      "77/77 [==============================] - 0s 777us/step - loss: 0.5187 - accuracy: 0.7448\n",
      "Epoch 108/150\n",
      "77/77 [==============================] - 0s 751us/step - loss: 0.5171 - accuracy: 0.7487\n",
      "Epoch 109/150\n",
      "77/77 [==============================] - 0s 764us/step - loss: 0.5100 - accuracy: 0.7734\n",
      "Epoch 110/150\n",
      "77/77 [==============================] - 0s 750us/step - loss: 0.5055 - accuracy: 0.7513\n",
      "Epoch 111/150\n",
      "77/77 [==============================] - 0s 751us/step - loss: 0.5056 - accuracy: 0.7617\n",
      "Epoch 112/150\n",
      "77/77 [==============================] - 0s 777us/step - loss: 0.5091 - accuracy: 0.7617\n",
      "Epoch 113/150\n",
      "77/77 [==============================] - 0s 762us/step - loss: 0.5039 - accuracy: 0.7604\n",
      "Epoch 114/150\n",
      "77/77 [==============================] - 0s 749us/step - loss: 0.5024 - accuracy: 0.7617\n",
      "Epoch 115/150\n",
      "77/77 [==============================] - 0s 751us/step - loss: 0.4995 - accuracy: 0.7669\n",
      "Epoch 116/150\n",
      "77/77 [==============================] - 0s 777us/step - loss: 0.5038 - accuracy: 0.7565\n",
      "Epoch 117/150\n",
      "77/77 [==============================] - 0s 774us/step - loss: 0.5224 - accuracy: 0.7474\n",
      "Epoch 118/150\n",
      "77/77 [==============================] - 0s 738us/step - loss: 0.5040 - accuracy: 0.7669\n",
      "Epoch 119/150\n",
      "77/77 [==============================] - 0s 751us/step - loss: 0.5061 - accuracy: 0.7669\n",
      "Epoch 120/150\n",
      "77/77 [==============================] - 0s 751us/step - loss: 0.5007 - accuracy: 0.7630\n",
      "Epoch 121/150\n",
      "77/77 [==============================] - 0s 709us/step - loss: 0.5084 - accuracy: 0.7630\n",
      "Epoch 122/150\n",
      "77/77 [==============================] - 0s 777us/step - loss: 0.5335 - accuracy: 0.7669\n",
      "Epoch 123/150\n",
      "77/77 [==============================] - 0s 814us/step - loss: 0.5232 - accuracy: 0.7318\n",
      "Epoch 124/150\n",
      "77/77 [==============================] - 0s 946us/step - loss: 0.5051 - accuracy: 0.7591\n",
      "Epoch 125/150\n",
      "77/77 [==============================] - 0s 946us/step - loss: 0.5066 - accuracy: 0.7552\n",
      "Epoch 126/150\n",
      "77/77 [==============================] - 0s 907us/step - loss: 0.5009 - accuracy: 0.7695\n",
      "Epoch 127/150\n",
      "77/77 [==============================] - 0s 868us/step - loss: 0.4973 - accuracy: 0.7695\n",
      "Epoch 128/150\n",
      "77/77 [==============================] - 0s 816us/step - loss: 0.4855 - accuracy: 0.7760\n",
      "Epoch 129/150\n",
      "77/77 [==============================] - 0s 775us/step - loss: 0.5073 - accuracy: 0.7682\n",
      "Epoch 130/150\n",
      "77/77 [==============================] - 0s 751us/step - loss: 0.5068 - accuracy: 0.7695\n",
      "Epoch 131/150\n",
      "77/77 [==============================] - 0s 777us/step - loss: 0.5081 - accuracy: 0.7734\n",
      "Epoch 132/150\n",
      "77/77 [==============================] - 0s 894us/step - loss: 0.5108 - accuracy: 0.7578\n",
      "Epoch 133/150\n",
      "77/77 [==============================] - 0s 920us/step - loss: 0.5044 - accuracy: 0.7656\n",
      "Epoch 134/150\n",
      "77/77 [==============================] - 0s 920us/step - loss: 0.5053 - accuracy: 0.7591\n",
      "Epoch 135/150\n",
      "77/77 [==============================] - 0s 842us/step - loss: 0.5023 - accuracy: 0.7617\n",
      "Epoch 136/150\n",
      "77/77 [==============================] - 0s 803us/step - loss: 0.4923 - accuracy: 0.7695\n",
      "Epoch 137/150\n",
      "77/77 [==============================] - 0s 738us/step - loss: 0.5022 - accuracy: 0.7630\n",
      "Epoch 138/150\n",
      "77/77 [==============================] - 0s 751us/step - loss: 0.4863 - accuracy: 0.7721\n",
      "Epoch 139/150\n",
      "77/77 [==============================] - 0s 761us/step - loss: 0.5151 - accuracy: 0.7630\n",
      "Epoch 140/150\n",
      "77/77 [==============================] - 0s 777us/step - loss: 0.4937 - accuracy: 0.7630\n",
      "Epoch 141/150\n",
      "77/77 [==============================] - 0s 816us/step - loss: 0.5137 - accuracy: 0.7669\n",
      "Epoch 142/150\n",
      "77/77 [==============================] - 0s 803us/step - loss: 0.5082 - accuracy: 0.7630\n",
      "Epoch 143/150\n",
      "77/77 [==============================] - 0s 777us/step - loss: 0.4888 - accuracy: 0.7682\n",
      "Epoch 144/150\n",
      "77/77 [==============================] - 0s 790us/step - loss: 0.5096 - accuracy: 0.7682\n",
      "Epoch 145/150\n",
      "77/77 [==============================] - 0s 816us/step - loss: 0.4906 - accuracy: 0.7669\n",
      "Epoch 146/150\n",
      "77/77 [==============================] - 0s 829us/step - loss: 0.5075 - accuracy: 0.7617\n",
      "Epoch 147/150\n",
      "77/77 [==============================] - 0s 790us/step - loss: 0.5039 - accuracy: 0.7695\n",
      "Epoch 148/150\n",
      "77/77 [==============================] - 0s 725us/step - loss: 0.4967 - accuracy: 0.7552\n",
      "Epoch 149/150\n",
      "77/77 [==============================] - 0s 738us/step - loss: 0.4900 - accuracy: 0.7513\n",
      "Epoch 150/150\n",
      "77/77 [==============================] - 0s 723us/step - loss: 0.5052 - accuracy: 0.7552\n"
     ]
    },
    {
     "data": {
      "text/plain": [
       "<tensorflow.python.keras.callbacks.History at 0x1bd666ebd60>"
      ]
     },
     "execution_count": 52,
     "metadata": {},
     "output_type": "execute_result"
    }
   ],
   "source": [
    "# Fit the model\n",
    "model.fit(X, Y, epochs=150, batch_size=10)"
   ]
  },
  {
   "cell_type": "code",
   "execution_count": 53,
   "metadata": {},
   "outputs": [
    {
     "name": "stdout",
     "output_type": "stream",
     "text": [
      "24/24 [==============================] - 0s 1ms/step - loss: 0.4681 - accuracy: 0.7812\n",
      "accuracy: 78.12%\n"
     ]
    }
   ],
   "source": [
    "# evaluate the model\n",
    "scores = model.evaluate(X, Y)\n",
    "print(\"%s: %.2f%%\" % (model.metrics_names[1], scores[1]*100))"
   ]
  },
  {
   "cell_type": "markdown",
   "metadata": {},
   "source": [
    "# Try a simple dataset with Regression"
   ]
  },
  {
   "cell_type": "code",
   "execution_count": 32,
   "metadata": {},
   "outputs": [],
   "source": [
    "from keras.datasets import boston_housing\n",
    "\n",
    "(train_data, train_targets), (test_data, test_targets) =  boston_housing.load_data()"
   ]
  },
  {
   "cell_type": "code",
   "execution_count": 33,
   "metadata": {},
   "outputs": [
    {
     "data": {
      "text/plain": [
       "(404, 13)"
      ]
     },
     "execution_count": 33,
     "metadata": {},
     "output_type": "execute_result"
    }
   ],
   "source": [
    "train_data.shape"
   ]
  },
  {
   "cell_type": "code",
   "execution_count": 34,
   "metadata": {},
   "outputs": [
    {
     "data": {
      "text/plain": [
       "(102, 13)"
      ]
     },
     "execution_count": 34,
     "metadata": {},
     "output_type": "execute_result"
    }
   ],
   "source": [
    "test_data.shape"
   ]
  },
  {
   "cell_type": "markdown",
   "metadata": {},
   "source": [
    "# As you can see, we have 404 training samples and 102 test samples. The data comprises 13 features. The 13 features in the input data are as follow:\n",
    "\n",
    "- Per capita crime rate.\n",
    "- Proportion of residential land zoned for lots over 25,000 square feet.\n",
    "- Proportion of non-retail business acres per town.\n",
    "- Charles River dummy variable (= 1 if tract bounds river; 0 otherwise).\n",
    "- Nitric oxides concentration (parts per 10 million).\n",
    "- Average number of rooms per dwelling.\n",
    "- Proportion of owner-occupied units built prior to 1940.\n",
    "- Weighted distances to five Boston employment centres.\n",
    "- Index of accessibility to radial highways.\n",
    "- Full-value property-tax rate per $10,000.\n",
    "- Pupil-teacher ratio by town.\n",
    "1000 * (Bk - 0.63) ** 2 where Bk is the proportion of Black people by town.\n",
    "% lower status of the population.\n",
    "\n",
    "The targets are the median values of owner-occupied homes, in thousands of dollars(Label)\n",
    "\n",
    "- Link https://www.cs.toronto.edu/~delve/data/boston/bostonDetail.html"
   ]
  },
  {
   "cell_type": "code",
   "execution_count": 23,
   "metadata": {},
   "outputs": [],
   "source": [
    "mean = train_data.mean(axis=0)\n",
    "train_data -= mean\n",
    "std = train_data.std(axis=0)\n",
    "train_data /= std\n",
    "\n",
    "test_data -= mean\n",
    "test_data /= std"
   ]
  },
  {
   "cell_type": "code",
   "execution_count": 27,
   "metadata": {},
   "outputs": [
    {
     "name": "stdout",
     "output_type": "stream",
     "text": [
      "13\n"
     ]
    }
   ],
   "source": [
    "print(train_data.shape[1])"
   ]
  },
  {
   "cell_type": "code",
   "execution_count": 24,
   "metadata": {},
   "outputs": [
    {
     "data": {
      "text/plain": [
       "(404, 13)"
      ]
     },
     "execution_count": 24,
     "metadata": {},
     "output_type": "execute_result"
    }
   ],
   "source": [
    "train_data.shape"
   ]
  },
  {
   "cell_type": "code",
   "execution_count": 65,
   "metadata": {},
   "outputs": [],
   "source": [
    "\n",
    "from keras import models\n",
    "from keras import layers\n",
    "\n",
    "def build_model():\n",
    "    # Because we will need to instantiate\n",
    "    # the same model multiple times,\n",
    "    # we use a function to construct it.\n",
    "    model = models.Sequential()\n",
    "    model.add(layers.Dense(64, activation='relu',\n",
    "                           input_shape=(train_data.shape[1],))) # Note: print(train_data.shape[1]) is 13 \n",
    "    model.add(layers.Dense(64, activation='relu'))\n",
    "    model.add(layers.Dense(1))\n",
    "    model.compile(optimizer='rmsprop', loss='mse', metrics=['mae'])\n",
    "    return model"
   ]
  },
  {
   "cell_type": "code",
   "execution_count": 71,
   "metadata": {},
   "outputs": [
    {
     "name": "stdout",
     "output_type": "stream",
     "text": [
      "processing fold # 0\n",
      "processing fold # 1\n",
      "processing fold # 2\n",
      "processing fold # 3\n"
     ]
    }
   ],
   "source": [
    "\n",
    "import numpy as np\n",
    "\n",
    "k = 4\n",
    "num_val_samples = len(train_data) // k\n",
    "num_epochs = 5\n",
    "all_scores = []\n",
    "for i in range(k):\n",
    "    print('processing fold #', i)\n",
    "    # Prepare the validation data: data from partition # k\n",
    "    val_data = train_data[i * num_val_samples: (i + 1) * num_val_samples]\n",
    "    val_targets = train_targets[i * num_val_samples: (i + 1) * num_val_samples]\n",
    "\n",
    "    # Prepare the training data: data from all other partitions\n",
    "    partial_train_data = np.concatenate(\n",
    "        [train_data[:i * num_val_samples],\n",
    "         train_data[(i + 1) * num_val_samples:]],\n",
    "        axis=0)\n",
    "    partial_train_targets = np.concatenate(\n",
    "        [train_targets[:i * num_val_samples],\n",
    "         train_targets[(i + 1) * num_val_samples:]],\n",
    "        axis=0)\n",
    "\n",
    "    # Build the Keras model (already compiled)\n",
    "    model = build_model()\n",
    "    # Train the model (in silent mode, verbose=0)\n",
    "    model.fit(partial_train_data, partial_train_targets,\n",
    "              epochs=num_epochs, batch_size=1, verbose=0)\n",
    "    # Evaluate the model on the validation data\n",
    "    val_mse, val_mae = model.evaluate(val_data, val_targets, verbose=0)\n",
    "    all_scores.append(val_mae)"
   ]
  },
  {
   "cell_type": "code",
   "execution_count": 72,
   "metadata": {},
   "outputs": [
    {
     "data": {
      "text/plain": [
       "2.7524108290672302"
      ]
     },
     "execution_count": 72,
     "metadata": {},
     "output_type": "execute_result"
    }
   ],
   "source": [
    "np.mean(all_scores)"
   ]
  },
  {
   "cell_type": "code",
   "execution_count": 76,
   "metadata": {},
   "outputs": [
    {
     "name": "stdout",
     "output_type": "stream",
     "text": [
      "4/4 [==============================] - 0s 0s/step - loss: 20.2172 - mae: 2.8213\n"
     ]
    }
   ],
   "source": [
    "# Get a fresh, compiled model.\n",
    "model = build_model()\n",
    "# Train it on the entirety of the data.\n",
    "model.fit(train_data, train_targets,\n",
    "          epochs=50, batch_size=16, verbose=0)\n",
    "test_mse_score, test_mae_score = model.evaluate(test_data, test_targets)"
   ]
  },
  {
   "cell_type": "code",
   "execution_count": 77,
   "metadata": {},
   "outputs": [
    {
     "data": {
      "text/plain": [
       "2.8212573528289795"
      ]
     },
     "execution_count": 77,
     "metadata": {},
     "output_type": "execute_result"
    }
   ],
   "source": [
    "test_mae_score"
   ]
  },
  {
   "cell_type": "code",
   "execution_count": null,
   "metadata": {},
   "outputs": [],
   "source": []
  }
 ],
 "metadata": {
  "kernelspec": {
   "display_name": "Python 3",
   "language": "python",
   "name": "python3"
  },
  "language_info": {
   "codemirror_mode": {
    "name": "ipython",
    "version": 3
   },
   "file_extension": ".py",
   "mimetype": "text/x-python",
   "name": "python",
   "nbconvert_exporter": "python",
   "pygments_lexer": "ipython3",
   "version": "3.8.5"
  }
 },
 "nbformat": 4,
 "nbformat_minor": 4
}
